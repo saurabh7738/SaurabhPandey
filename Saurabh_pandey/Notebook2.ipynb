{
  "nbformat": 4,
  "nbformat_minor": 0,
  "metadata": {
    "colab": {
      "provenance": []
    },
    "kernelspec": {
      "name": "python3",
      "display_name": "Python 3"
    },
    "language_info": {
      "name": "python"
    }
  },
  "cells": [
    {
      "cell_type": "code",
      "execution_count": 1,
      "metadata": {
        "colab": {
          "base_uri": "https://localhost:8080/"
        },
        "id": "-fhBhTmdqs00",
        "outputId": "812f8a51-78cb-4e2e-cfd5-61cfbed77e6a"
      },
      "outputs": [
        {
          "output_type": "stream",
          "name": "stdout",
          "text": [
            "optional Notebook\n"
          ]
        }
      ],
      "source": [
        "print(\"optional Notebook\")"
      ]
    }
  ]
}